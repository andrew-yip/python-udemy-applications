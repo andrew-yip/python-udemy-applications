{
 "cells": [
  {
   "cell_type": "code",
   "execution_count": 113,
   "metadata": {},
   "outputs": [
    {
     "ename": "SyntaxError",
     "evalue": "invalid syntax (<ipython-input-113-e8648d193049>, line 1)",
     "output_type": "error",
     "traceback": [
      "\u001b[0;36m  File \u001b[0;32m\"<ipython-input-113-e8648d193049>\"\u001b[0;36m, line \u001b[0;32m1\u001b[0m\n\u001b[0;31m    pip install pandas_datareader #to install pandas_datareader\u001b[0m\n\u001b[0m              ^\u001b[0m\n\u001b[0;31mSyntaxError\u001b[0m\u001b[0;31m:\u001b[0m invalid syntax\n"
     ]
    }
   ],
   "source": [
    "pip install pandas_datareader #to install pandas_datareader\n"
   ]
  },
  {
   "cell_type": "code",
   "execution_count": 114,
   "metadata": {},
   "outputs": [],
   "source": [
    "#specific for stock market data from yahoo or google\n",
    "\n",
    "from pandas_datareader import data #specifically for stock market\n",
    "import datetime\n",
    "from bokeh.plotting import figure, show, output_file \n",
    "\n",
    "start = datetime.datetime(2015, 11,1,) #getting the dates\n",
    "end = datetime.datetime(2016, 3,10)\n",
    "df = data.DataReader(name = \"GOOG\", data_source=\"yahoo\", start = start, end = end) #reading data ONLY BUSINESS DAYS\n",
    "df\n",
    "\n",
    "#date_increase = df.index[df.Close>df.Open]\n",
    "#date_decrease = df.index[df.Close<df.Open]\n",
    "\n",
    "def inc_dec (c,o):\n",
    "    if c>o:\n",
    "        value = \"Increase\"\n",
    "    elif c<o:\n",
    "        value = \"Decrease\"\n",
    "    else:\n",
    "        value = \"Equal\"\n",
    "    return value\n",
    "\n",
    "df[\"Status\"]= [inc_dec(c,o) for c,o in zip(df.Close,df.Open)]#list of increase or decrease strings\n",
    "df[\"Middle\"] = (df.Open+df.Close)/2\n",
    "df[\"Height\"] = abs(df.Close-df.Open)\n",
    "\n",
    "\n",
    "#store figure object\n",
    "\n",
    "p=figure(x_axis_type='datetime', width = 1000,height = 300, sizing_mode=\"scale_width\")\n",
    "\n",
    "#p.title= \"Candlestick Graph\" #idk why this is not working\n",
    "p.grid.grid_line_alpha=0.3\n",
    "\n",
    "hours_12 = 12*60*60*1000\n",
    "\n",
    "p.segment(df.index, df.High, df.index, df.Low, color = \"black\")\n",
    "\n",
    "p.rect(df.index[df.Status == \"Increase\"],df.Middle[df.Status ==\"Increase\"], hours_12,  #why all turning green\n",
    "       df.Height[df.Status ==\"Increase\"], fill_color= \"#CCFFFF\", line_color=\"black\")\n",
    "\n",
    "p.rect(df.index[df.Status == \"Decrease\"],df.Middle[df.Status ==\"Decrease\"], hours_12, \n",
    "       df.Height[df.Status ==\"Decrease\"], fill_color=\"#FF3333\", line_color=\"black\")\n",
    "\n",
    "output_file=(\"CS.html\")\n",
    "show(p)\n",
    "\n",
    "\n",
    "\n"
   ]
  }
 ],
 "metadata": {
  "kernelspec": {
   "display_name": "Python 3",
   "language": "python",
   "name": "python3"
  },
  "language_info": {
   "codemirror_mode": {
    "name": "ipython",
    "version": 3
   },
   "file_extension": ".py",
   "mimetype": "text/x-python",
   "name": "python",
   "nbconvert_exporter": "python",
   "pygments_lexer": "ipython3",
   "version": "3.7.4"
  }
 },
 "nbformat": 4,
 "nbformat_minor": 2
}
